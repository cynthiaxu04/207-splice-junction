{
 "cells": [
  {
   "cell_type": "code",
   "execution_count": 28,
   "metadata": {
    "collapsed": true,
    "ExecuteTime": {
     "end_time": "2023-07-31T20:08:29.871823900Z",
     "start_time": "2023-07-31T20:08:29.814930700Z"
    }
   },
   "outputs": [],
   "source": [
    "import os\n",
    "import numpy as np\n",
    "import h5py\n",
    "import utils\n",
    "from random import sample\n",
    "import re\n",
    "import time\n",
    "\n",
    "from sklearn.model_selection import train_test_split\n",
    "from sklearn.ensemble import RandomForestClassifier\n",
    "from sklearn.metrics import classification_report\n",
    "from sklearn import metrics\n",
    "from xgboost import XGBClassifier\n",
    "from sklearn.naive_bayes import GaussianNB"
   ]
  },
  {
   "cell_type": "code",
   "execution_count": 2,
   "outputs": [],
   "source": [
    "#set random seed\n",
    "np.random.seed(123)"
   ],
   "metadata": {
    "collapsed": false,
    "ExecuteTime": {
     "end_time": "2023-07-31T19:30:23.442598500Z",
     "start_time": "2023-07-31T19:30:23.437746300Z"
    }
   }
  },
  {
   "cell_type": "code",
   "execution_count": 3,
   "outputs": [
    {
     "name": "stdout",
     "output_type": "stream",
     "text": [
      "That the path /tmp/7c6256f4-ef7b-4f52-8ff4-5bcca6de5eb8/new_data_code/data exists is True.\n",
      "That the file dataset_train_all.h5 exists is True.\n",
      "Shape of stacked X data is (3351, 5000, 4)\n",
      "Shape of stacked Y data is (3351, 5000, 3).\n"
     ]
    }
   ],
   "source": [
    "#root directory\n",
    "root = os.path.dirname(os.getcwd())\n",
    "\n",
    "#path to data file\n",
    "data_path = os.path.join(root, 'data')\n",
    "\n",
    "#name of data file\n",
    "filename = 'dataset_train_all.h5'\n",
    "\n",
    "#check if file and path exist\n",
    "print(f\"That the path {data_path} exists is {os.path.isdir(data_path)}.\")\n",
    "print(f\"That the file {filename} exists is {os.path.isfile(os.path.join(data_path, filename))}.\")\n",
    "\n",
    "#read in the h5f file\n",
    "h5f = h5py.File(os.path.join(data_path, filename), 'r')\n",
    "\n",
    "#make list of x data keys\n",
    "x_keys = [x for x in h5f.keys() if 'X' in x]\n",
    "\n",
    "#make list of y data keys\n",
    "y_keys = [y for y in h5f.keys() if 'Y' in y]\n",
    "\n",
    "#get a random sample of X data\n",
    "x_dataset = sample(x_keys, 4)\n",
    "\n",
    "\n",
    "\n",
    "#make empty list to store the converted arrays\n",
    "temp_list = []\n",
    "for i in x_dataset:\n",
    "    temp = np.array(h5f[i][:,5000:10000]) #select only the middle 5000 nt sequence aka the not-padded part\n",
    "    temp_list.append(temp)\n",
    "    \n",
    "#stack all the x_data arrays into one\n",
    "x_npdata = np.vstack(temp_list)\n",
    "print(f\"Shape of stacked X data is {x_npdata.shape}\")\n",
    "\n",
    "#get the corresponding y_data in the same order as the x_data\n",
    "y_dataset = []\n",
    "for i in x_dataset:\n",
    "    for j in y_keys:\n",
    "        if i[1:] == j[1:]:\n",
    "            y_dataset.append(j)\n",
    "            \n",
    "            \n",
    "#convert y_dataset to numpy arrays and stack\n",
    "temp_list2 = []\n",
    "for i in y_dataset:\n",
    "    temp = np.array(h5f[i][:])\n",
    "    temp2 = temp.reshape(temp.shape[1:])\n",
    "    temp_list2.append(temp2)\n",
    "#     print(temp2.shape)\n",
    "    \n",
    "y_npdata = np.vstack(temp_list2)\n",
    "print(f\"Shape of stacked Y data is {y_npdata.shape}.\")\n",
    "\n",
    "\n",
    "#reshape arrays from 3d to 2d\n",
    "nsamples, nx, ny = x_npdata.shape\n",
    "x_npdata_2d = x_npdata.reshape((nsamples, nx*ny))\n",
    "\n",
    "nsamples2, nx2, ny2 = y_npdata.shape\n",
    "y_npdata_2d = y_npdata.reshape((nsamples2, nx2*ny2))\n",
    "\n",
    "#split data for train & test\n",
    "x_train, x_test, y_train, y_test = train_test_split(x_npdata_2d, y_npdata_2d, test_size = 0.20)"
   ],
   "metadata": {
    "collapsed": false,
    "ExecuteTime": {
     "end_time": "2023-07-31T19:30:25.278014800Z",
     "start_time": "2023-07-31T19:30:23.445886Z"
    }
   }
  },
  {
   "cell_type": "markdown",
   "source": [
    "##Run XGBClassifier"
   ],
   "metadata": {
    "collapsed": false
   }
  },
  {
   "cell_type": "code",
   "execution_count": 4,
   "outputs": [],
   "source": [
    "model = XGBClassifier(tree_method='gpu_hist',\n",
    "                      verbosity=3, )\n",
    "model.fit(x_train, y_train, verbose=True)\n",
    "model.save_model(os.path.join(root, 'Canonical', 'Models', 'xgboost_model.json'))"
   ],
   "metadata": {
    "collapsed": false,
    "ExecuteTime": {
     "end_time": "2023-07-31T19:31:00.775848200Z",
     "start_time": "2023-07-31T19:30:25.279624800Z"
    }
   }
  },
  {
   "cell_type": "code",
   "execution_count": null,
   "outputs": [],
   "source": [
    "# If model already saved\n",
    "#model.load_model(os.path.join(root, 'Canonical', 'Models', 'xgboost_model.json'))"
   ],
   "metadata": {
    "collapsed": false
   }
  },
  {
   "cell_type": "code",
   "execution_count": 5,
   "outputs": [],
   "source": [
    "#Make predictions for test data\n",
    "y_pred = model.predict(x_test)"
   ],
   "metadata": {
    "collapsed": false,
    "ExecuteTime": {
     "end_time": "2023-07-31T19:31:02.497162800Z",
     "start_time": "2023-07-31T19:31:00.777990900Z"
    }
   }
  },
  {
   "cell_type": "code",
   "execution_count": 7,
   "outputs": [
    {
     "data": {
      "text/plain": "(671, 15000)"
     },
     "execution_count": 7,
     "metadata": {},
     "output_type": "execute_result"
    }
   ],
   "source": [
    "np.shape(y_pred)"
   ],
   "metadata": {
    "collapsed": false,
    "ExecuteTime": {
     "end_time": "2023-07-31T19:31:41.186922400Z",
     "start_time": "2023-07-31T19:31:41.174725800Z"
    }
   }
  },
  {
   "cell_type": "code",
   "execution_count": 8,
   "outputs": [],
   "source": [
    "# Reshape\n",
    "y_pred_1 = y_pred.reshape(671, 5000, 3)\n",
    "y_test_1 = y_test.reshape(671, 5000, 3)"
   ],
   "metadata": {
    "collapsed": false,
    "ExecuteTime": {
     "end_time": "2023-07-31T19:31:47.814166900Z",
     "start_time": "2023-07-31T19:31:47.797686700Z"
    }
   }
  },
  {
   "cell_type": "code",
   "execution_count": 30,
   "outputs": [],
   "source": [
    "y_pred_donor = list(y_pred.reshape(-1, 3)[:,1])\n",
    "y_pred_acceptor = list(y_pred.reshape(-1, 3)[:,2])\n",
    "y_test_donor = list(y_test.reshape(-1, 3)[:,1])\n",
    "y_test_acceptor = list(y_test.reshape(-1, 3)[:,2])"
   ],
   "metadata": {
    "collapsed": false,
    "ExecuteTime": {
     "end_time": "2023-07-31T20:13:58.469905900Z",
     "start_time": "2023-07-31T20:13:58.314883200Z"
    }
   }
  },
  {
   "cell_type": "markdown",
   "source": [
    "Print metrics in following order:"
   ],
   "metadata": {
    "collapsed": false
   }
  },
  {
   "cell_type": "code",
   "execution_count": 31,
   "outputs": [
    {
     "name": "stdout",
     "output_type": "stream",
     "text": [
      "0.0000\t\u001B[91m0.0000\t\u001B[0m0.0013\t0.0050\t\u001B[94m0.0002\t\u001B[0m0.0000\t0.0000\t0.0000\t0.0000\t793\n",
      "0.0000\t\u001B[91m0.0000\t\u001B[0m0.0025\t0.0075\t\u001B[94m0.0002\t\u001B[0m0.0000\t0.0000\t0.0000\t0.0000\t802\n"
     ]
    }
   ],
   "source": [
    "# Test on acceptor\n",
    "utils.print_topl_statistics(np.asarray(y_test_donor), np.asarray(y_pred_donor))\n",
    "utils.print_topl_statistics(np.asarray(y_test_acceptor), np.asarray(y_pred_acceptor))"
   ],
   "metadata": {
    "collapsed": false,
    "ExecuteTime": {
     "end_time": "2023-07-31T20:14:00.461659500Z",
     "start_time": "2023-07-31T20:13:59.331983Z"
    }
   }
  },
  {
   "cell_type": "code",
   "execution_count": null,
   "outputs": [],
   "source": [
    "idx_pred = argsorted_y_pred[-int(top_length*len(idx_true)):]"
   ],
   "metadata": {
    "collapsed": false
   }
  }
 ],
 "metadata": {
  "kernelspec": {
   "display_name": "Python 3",
   "language": "python",
   "name": "python3"
  },
  "language_info": {
   "codemirror_mode": {
    "name": "ipython",
    "version": 2
   },
   "file_extension": ".py",
   "mimetype": "text/x-python",
   "name": "python",
   "nbconvert_exporter": "python",
   "pygments_lexer": "ipython2",
   "version": "2.7.6"
  }
 },
 "nbformat": 4,
 "nbformat_minor": 0
}
