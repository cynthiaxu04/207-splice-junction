{
 "cells": [
  {
   "cell_type": "code",
   "execution_count": 1,
   "metadata": {
    "collapsed": true,
    "ExecuteTime": {
     "end_time": "2023-07-02T19:56:17.714210500Z",
     "start_time": "2023-07-02T19:56:17.710214100Z"
    }
   },
   "outputs": [],
   "source": [
    "#imports\n",
    "import pandas as pd\n",
    "import numpy as np\n",
    "import matplotlib.pyplot as plt\n",
    "import seaborn as sns\n",
    "import os"
   ]
  },
  {
   "cell_type": "code",
   "execution_count": 3,
   "outputs": [],
   "source": [
    "#load data\n",
    "train = pd.read_csv('gencode_train.tsv', sep='\\t')\n",
    "test = pd.read_csv('gencode_test.tsv', sep='\\t')"
   ],
   "metadata": {
    "collapsed": false,
    "ExecuteTime": {
     "end_time": "2023-07-02T19:58:37.427886300Z",
     "start_time": "2023-07-02T19:58:37.385839100Z"
    }
   }
  },
  {
   "cell_type": "markdown",
   "source": [],
   "metadata": {
    "collapsed": false
   }
  },
  {
   "cell_type": "code",
   "execution_count": 4,
   "outputs": [
    {
     "data": {
      "text/plain": "          #name  chrom strand    txStart      txEnd  \\\n0        NCKAP5   chr2      -  133429372  134326031   \n1       SPATS2L   chr2      +  201170616  201343253   \n2        FAM49A   chr2      -   16730727   16847102   \n3         LTBP1   chr2      +   33172039   33624426   \n4         NRXN1   chr2      -   50148877   51259338   \n...         ...    ...    ...        ...        ...   \n13379      CHKB  chr22      -   51017378   51021428   \n13380  MAPK8IP2  chr22      +   51039114   51049979   \n13381      ARSA  chr22      -   51063446   51066598   \n13382       ACR  chr22      +   51176624   51183762   \n13383    RABL2B  chr22      -   51205929   51222090   \n\n                                                exonEnds  \\\n0      133430878,133483332,133486525,133489624,133531...   \n1      201171015,201194203,201254006,201277142,201281...   \n2      16734267,16736407,16740854,16742337,16742545,1...   \n3      33172885,33174012,33246273,33335818,33360027,3...   \n4      50149389,50170929,50280728,50282182,50318632,5...   \n...                                                  ...   \n13379  51017684,51017936,51018259,51018511,51018700,5...   \n13380  51039312,51040323,51041927,51042148,51043492,5...   \n13381  51063892,51064109,51064491,51064706,51065188,5...   \n13382               51176740,51177902,51178405,51182634,   \n13383  51206136,51207302,51207552,51207977,51208444,5...   \n\n                                              exonStarts  \n0      133483200,133486389,133489310,133531389,133538...  \n1      201194154,201253946,201277034,201281102,201283...  \n2      16736337,16740728,16742258,16742429,16742724,1...  \n3      33173942,33245976,33335649,33359860,33411923,3...  \n4      50170842,50280409,50282093,50318461,50463927,5...  \n...                                                  ...  \n13379  51017855,51018156,51018403,51018619,51018787,5...  \n13380  51040218,51041652,51042055,51042270,51043796,5...  \n13381  51064007,51064364,51064582,51065019,51065262,5...  \n13382               51177699,51178122,51182489,51183081,  \n13383  51207188,51207469,51207883,51208333,51214200,5...  \n\n[13384 rows x 7 columns]",
      "text/html": "<div>\n<style scoped>\n    .dataframe tbody tr th:only-of-type {\n        vertical-align: middle;\n    }\n\n    .dataframe tbody tr th {\n        vertical-align: top;\n    }\n\n    .dataframe thead th {\n        text-align: right;\n    }\n</style>\n<table border=\"1\" class=\"dataframe\">\n  <thead>\n    <tr style=\"text-align: right;\">\n      <th></th>\n      <th>#name</th>\n      <th>chrom</th>\n      <th>strand</th>\n      <th>txStart</th>\n      <th>txEnd</th>\n      <th>exonEnds</th>\n      <th>exonStarts</th>\n    </tr>\n  </thead>\n  <tbody>\n    <tr>\n      <th>0</th>\n      <td>NCKAP5</td>\n      <td>chr2</td>\n      <td>-</td>\n      <td>133429372</td>\n      <td>134326031</td>\n      <td>133430878,133483332,133486525,133489624,133531...</td>\n      <td>133483200,133486389,133489310,133531389,133538...</td>\n    </tr>\n    <tr>\n      <th>1</th>\n      <td>SPATS2L</td>\n      <td>chr2</td>\n      <td>+</td>\n      <td>201170616</td>\n      <td>201343253</td>\n      <td>201171015,201194203,201254006,201277142,201281...</td>\n      <td>201194154,201253946,201277034,201281102,201283...</td>\n    </tr>\n    <tr>\n      <th>2</th>\n      <td>FAM49A</td>\n      <td>chr2</td>\n      <td>-</td>\n      <td>16730727</td>\n      <td>16847102</td>\n      <td>16734267,16736407,16740854,16742337,16742545,1...</td>\n      <td>16736337,16740728,16742258,16742429,16742724,1...</td>\n    </tr>\n    <tr>\n      <th>3</th>\n      <td>LTBP1</td>\n      <td>chr2</td>\n      <td>+</td>\n      <td>33172039</td>\n      <td>33624426</td>\n      <td>33172885,33174012,33246273,33335818,33360027,3...</td>\n      <td>33173942,33245976,33335649,33359860,33411923,3...</td>\n    </tr>\n    <tr>\n      <th>4</th>\n      <td>NRXN1</td>\n      <td>chr2</td>\n      <td>-</td>\n      <td>50148877</td>\n      <td>51259338</td>\n      <td>50149389,50170929,50280728,50282182,50318632,5...</td>\n      <td>50170842,50280409,50282093,50318461,50463927,5...</td>\n    </tr>\n    <tr>\n      <th>...</th>\n      <td>...</td>\n      <td>...</td>\n      <td>...</td>\n      <td>...</td>\n      <td>...</td>\n      <td>...</td>\n      <td>...</td>\n    </tr>\n    <tr>\n      <th>13379</th>\n      <td>CHKB</td>\n      <td>chr22</td>\n      <td>-</td>\n      <td>51017378</td>\n      <td>51021428</td>\n      <td>51017684,51017936,51018259,51018511,51018700,5...</td>\n      <td>51017855,51018156,51018403,51018619,51018787,5...</td>\n    </tr>\n    <tr>\n      <th>13380</th>\n      <td>MAPK8IP2</td>\n      <td>chr22</td>\n      <td>+</td>\n      <td>51039114</td>\n      <td>51049979</td>\n      <td>51039312,51040323,51041927,51042148,51043492,5...</td>\n      <td>51040218,51041652,51042055,51042270,51043796,5...</td>\n    </tr>\n    <tr>\n      <th>13381</th>\n      <td>ARSA</td>\n      <td>chr22</td>\n      <td>-</td>\n      <td>51063446</td>\n      <td>51066598</td>\n      <td>51063892,51064109,51064491,51064706,51065188,5...</td>\n      <td>51064007,51064364,51064582,51065019,51065262,5...</td>\n    </tr>\n    <tr>\n      <th>13382</th>\n      <td>ACR</td>\n      <td>chr22</td>\n      <td>+</td>\n      <td>51176624</td>\n      <td>51183762</td>\n      <td>51176740,51177902,51178405,51182634,</td>\n      <td>51177699,51178122,51182489,51183081,</td>\n    </tr>\n    <tr>\n      <th>13383</th>\n      <td>RABL2B</td>\n      <td>chr22</td>\n      <td>-</td>\n      <td>51205929</td>\n      <td>51222090</td>\n      <td>51206136,51207302,51207552,51207977,51208444,5...</td>\n      <td>51207188,51207469,51207883,51208333,51214200,5...</td>\n    </tr>\n  </tbody>\n</table>\n<p>13384 rows × 7 columns</p>\n</div>"
     },
     "execution_count": 4,
     "metadata": {},
     "output_type": "execute_result"
    }
   ],
   "source": [
    "train"
   ],
   "metadata": {
    "collapsed": false,
    "ExecuteTime": {
     "end_time": "2023-07-02T19:58:38.994761500Z",
     "start_time": "2023-07-02T19:58:38.986407500Z"
    }
   }
  },
  {
   "cell_type": "code",
   "execution_count": 5,
   "outputs": [
    {
     "data": {
      "text/plain": "         #name chrom strand    txStart      txEnd  \\\n0        AZIN2  chr1      +   33546714   33585995   \n1        PRUNE  chr1      +  150980953  151008189   \n2      C1orf21  chr1      +  184356192  184598154   \n3         LIN9  chr1      -  226418858  226497434   \n4     C1orf159  chr1      -    1017203    1051478   \n...        ...   ...    ...        ...        ...   \n1647     NELFB  chr9      +  140149759  140167999   \n1648      NSMF  chr9      -  140342025  140353786   \n1649    MRPL41  chr9      +  140445651  140447007   \n1650      DPH7  chr9      -  140449361  140473387   \n1651   ZMYND19  chr9      -  140476531  140484942   \n\n                                               exonEnds  \\\n0     33546895,33547109,33547413,33547955,33549728,3...   \n1     150981147,150990380,150991145,150997271,150998...   \n2     184356502,184446737,184476816,184559949,184567...   \n3     226420307,226420894,226421224,226426797,226438...   \n4     1018367,1019763,1019886,1021392,1022584,102297...   \n...                                                 ...   \n1647  140150063,140150522,140150880,140151506,140157...   \n1648  140343943,140344126,140344477,140344707,140346...   \n1649                                         140446430,   \n1650  140450100,140459058,140459410,140459606,140468...   \n1651  140477138,140477615,140481559,140482275,140483...   \n\n                                             exonStarts  \n0     33546989,33547202,33547779,33549555,33557651,3...  \n1     150990288,150990943,150997087,150997991,150999...  \n2     184446520,184476722,184559873,184567535,184588...  \n3     226420797,226421045,226426672,226438540,226453...  \n4     1019733,1019861,1021258,1022519,1022882,102573...  \n...                                                 ...  \n1647  140150359,140150781,140151276,140157489,140158...  \n1648  140344051,140344375,140344628,140346817,140347...  \n1649                                         140446526,  \n1650  140458886,140459345,140459537,140468660,140469...  \n1651  140477435,140481419,140482169,140483111,140484...  \n\n[1652 rows x 7 columns]",
      "text/html": "<div>\n<style scoped>\n    .dataframe tbody tr th:only-of-type {\n        vertical-align: middle;\n    }\n\n    .dataframe tbody tr th {\n        vertical-align: top;\n    }\n\n    .dataframe thead th {\n        text-align: right;\n    }\n</style>\n<table border=\"1\" class=\"dataframe\">\n  <thead>\n    <tr style=\"text-align: right;\">\n      <th></th>\n      <th>#name</th>\n      <th>chrom</th>\n      <th>strand</th>\n      <th>txStart</th>\n      <th>txEnd</th>\n      <th>exonEnds</th>\n      <th>exonStarts</th>\n    </tr>\n  </thead>\n  <tbody>\n    <tr>\n      <th>0</th>\n      <td>AZIN2</td>\n      <td>chr1</td>\n      <td>+</td>\n      <td>33546714</td>\n      <td>33585995</td>\n      <td>33546895,33547109,33547413,33547955,33549728,3...</td>\n      <td>33546989,33547202,33547779,33549555,33557651,3...</td>\n    </tr>\n    <tr>\n      <th>1</th>\n      <td>PRUNE</td>\n      <td>chr1</td>\n      <td>+</td>\n      <td>150980953</td>\n      <td>151008189</td>\n      <td>150981147,150990380,150991145,150997271,150998...</td>\n      <td>150990288,150990943,150997087,150997991,150999...</td>\n    </tr>\n    <tr>\n      <th>2</th>\n      <td>C1orf21</td>\n      <td>chr1</td>\n      <td>+</td>\n      <td>184356192</td>\n      <td>184598154</td>\n      <td>184356502,184446737,184476816,184559949,184567...</td>\n      <td>184446520,184476722,184559873,184567535,184588...</td>\n    </tr>\n    <tr>\n      <th>3</th>\n      <td>LIN9</td>\n      <td>chr1</td>\n      <td>-</td>\n      <td>226418858</td>\n      <td>226497434</td>\n      <td>226420307,226420894,226421224,226426797,226438...</td>\n      <td>226420797,226421045,226426672,226438540,226453...</td>\n    </tr>\n    <tr>\n      <th>4</th>\n      <td>C1orf159</td>\n      <td>chr1</td>\n      <td>-</td>\n      <td>1017203</td>\n      <td>1051478</td>\n      <td>1018367,1019763,1019886,1021392,1022584,102297...</td>\n      <td>1019733,1019861,1021258,1022519,1022882,102573...</td>\n    </tr>\n    <tr>\n      <th>...</th>\n      <td>...</td>\n      <td>...</td>\n      <td>...</td>\n      <td>...</td>\n      <td>...</td>\n      <td>...</td>\n      <td>...</td>\n    </tr>\n    <tr>\n      <th>1647</th>\n      <td>NELFB</td>\n      <td>chr9</td>\n      <td>+</td>\n      <td>140149759</td>\n      <td>140167999</td>\n      <td>140150063,140150522,140150880,140151506,140157...</td>\n      <td>140150359,140150781,140151276,140157489,140158...</td>\n    </tr>\n    <tr>\n      <th>1648</th>\n      <td>NSMF</td>\n      <td>chr9</td>\n      <td>-</td>\n      <td>140342025</td>\n      <td>140353786</td>\n      <td>140343943,140344126,140344477,140344707,140346...</td>\n      <td>140344051,140344375,140344628,140346817,140347...</td>\n    </tr>\n    <tr>\n      <th>1649</th>\n      <td>MRPL41</td>\n      <td>chr9</td>\n      <td>+</td>\n      <td>140445651</td>\n      <td>140447007</td>\n      <td>140446430,</td>\n      <td>140446526,</td>\n    </tr>\n    <tr>\n      <th>1650</th>\n      <td>DPH7</td>\n      <td>chr9</td>\n      <td>-</td>\n      <td>140449361</td>\n      <td>140473387</td>\n      <td>140450100,140459058,140459410,140459606,140468...</td>\n      <td>140458886,140459345,140459537,140468660,140469...</td>\n    </tr>\n    <tr>\n      <th>1651</th>\n      <td>ZMYND19</td>\n      <td>chr9</td>\n      <td>-</td>\n      <td>140476531</td>\n      <td>140484942</td>\n      <td>140477138,140477615,140481559,140482275,140483...</td>\n      <td>140477435,140481419,140482169,140483111,140484...</td>\n    </tr>\n  </tbody>\n</table>\n<p>1652 rows × 7 columns</p>\n</div>"
     },
     "execution_count": 5,
     "metadata": {},
     "output_type": "execute_result"
    }
   ],
   "source": [
    "test"
   ],
   "metadata": {
    "collapsed": false,
    "ExecuteTime": {
     "end_time": "2023-07-02T19:58:40.471630400Z",
     "start_time": "2023-07-02T19:58:40.459118500Z"
    }
   }
  },
  {
   "cell_type": "code",
   "execution_count": null,
   "outputs": [],
   "source": [],
   "metadata": {
    "collapsed": false
   }
  }
 ],
 "metadata": {
  "kernelspec": {
   "display_name": "Python 3",
   "language": "python",
   "name": "python3"
  },
  "language_info": {
   "codemirror_mode": {
    "name": "ipython",
    "version": 2
   },
   "file_extension": ".py",
   "mimetype": "text/x-python",
   "name": "python",
   "nbconvert_exporter": "python",
   "pygments_lexer": "ipython2",
   "version": "2.7.6"
  }
 },
 "nbformat": 4,
 "nbformat_minor": 0
}
