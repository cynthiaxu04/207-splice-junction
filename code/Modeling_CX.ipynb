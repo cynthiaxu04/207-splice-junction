{
 "cells": [
  {
   "cell_type": "code",
   "execution_count": 1,
   "metadata": {},
   "outputs": [],
   "source": [
    "import pandas as pd\n",
    "import numpy as np\n",
    "import os\n",
    "# import patoolib"
   ]
  },
  {
   "cell_type": "code",
   "execution_count": 2,
   "metadata": {},
   "outputs": [
    {
     "data": {
      "text/plain": [
       "['gencode_test.tsv', 'gencode_train.tsv']"
      ]
     },
     "execution_count": 2,
     "metadata": {},
     "output_type": "execute_result"
    }
   ],
   "source": [
    "root = 'C:\\\\Users\\\\cynthia.xu\\\\Documents\\\\Cynthia\\\\Files\\\\MIDS\\\\02_2023 Summer\\\\207 Applied Machine Learning\\\\Final Project\\\\207-splice-junction'\n",
    "data = 'data'\n",
    "\n",
    "datapath = os.path.join(root, data)\n",
    "\n",
    "files = os.listdir(datapath)\n",
    "files = [file for file in files if 'tsv' in file]\n",
    "files"
   ]
  },
  {
   "cell_type": "code",
   "execution_count": 3,
   "metadata": {},
   "outputs": [],
   "source": [
    "df_dict = {}\n",
    "\n",
    "for i in files:\n",
    "    df = pd.read_csv(os.path.join(datapath, i), sep='\\t')\n",
    "    df_dict[i] = df\n"
   ]
  },
  {
   "cell_type": "code",
   "execution_count": null,
   "metadata": {},
   "outputs": [],
   "source": []
  }
 ],
 "metadata": {
  "kernelspec": {
   "display_name": "Python 3",
   "language": "python",
   "name": "python3"
  },
  "language_info": {
   "codemirror_mode": {
    "name": "ipython",
    "version": 3
   },
   "file_extension": ".py",
   "mimetype": "text/x-python",
   "name": "python",
   "nbconvert_exporter": "python",
   "pygments_lexer": "ipython3",
   "version": "3.8.3"
  }
 },
 "nbformat": 4,
 "nbformat_minor": 4
}
